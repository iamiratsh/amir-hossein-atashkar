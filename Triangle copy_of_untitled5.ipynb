{
  "nbformat": 4,
  "nbformat_minor": 0,
  "metadata": {
    "colab": {
      "provenance": [],
      "authorship_tag": "ABX9TyOlUZkRBb0r3sgQyRp4ywwr",
      "include_colab_link": true
    },
    "kernelspec": {
      "name": "python3",
      "display_name": "Python 3"
    },
    "language_info": {
      "name": "python"
    }
  },
  "cells": [
    {
      "cell_type": "markdown",
      "metadata": {
        "id": "view-in-github",
        "colab_type": "text"
      },
      "source": [
        "<a href=\"https://colab.research.google.com/github/iamiratsh/amir-hossein-atashkar/blob/main/Triangle%20copy_of_untitled5.ipynb\" target=\"_parent\"><img src=\"https://colab.research.google.com/assets/colab-badge.svg\" alt=\"Open In Colab\"/></a>"
      ]
    },
    {
      "cell_type": "code",
      "source": [
        "{\n",
        "  \"nbformat\": 4,\n",
        "  \"nbformat_minor\": 0,\n",
        "  \"metadata\": {\n",
        "    \"colab\": {\n",
        "      \"provenance\": [],\n",
        "      \"authorship_tag\": \"ABX9TyP2tkafY7rp5NOwuXiz/gdh\",\n",
        "      \"include_colab_link\": true\n",
        "    },\n",
        "    \"kernelspec\": {\n",
        "      \"name\": \"python3\",\n",
        "      \"display_name\": \"Python 3\"\n",
        "    },\n",
        "    \"language_info\": {\n",
        "      \"name\": \"python\"\n",
        "    }\n",
        "  },\n",
        "  \"cells\": [\n",
        "    {\n",
        "      \"cell_type\": \"markdown\",\n",
        "      \"metadata\": {\n",
        "        \"id\": \"view-in-github\",\n",
        "        \"colab_type\": \"text\"\n",
        "      },\n",
        "      \"source\": [\n",
        "        \"<a href=\\\"https://colab.research.google.com/github/Whyoblomovisme/barname-nevisi/blob/main/Triangle%20copy_of_untitled5.ipynb\\\" target=\\\"_parent\\\"><img src=\\\"https://colab.research.google.com/assets/colab-badge.svg\\\" alt=\\\"Open In Colab\\\"/></a>\"\n",
        "      ]\n",
        "    },\n",
        "    {\n",
        "      \"cell_type\": \"markdown\",\n",
        "      \"source\": [],\n",
        "      \"metadata\": {\n",
        "        \"id\": \"OFQSfNtApWFd\"\n",
        "      }\n",
        "    },\n",
        "    {\n",
        "      \"cell_type\": \"code\",\n",
        "      \"source\": [\n",
        "        \"class triangle () :\\n\",\n",
        "        \"    def __init__ (self, a=4, b=5, c=6):\\n\",\n",
        "        \"        self.a=a\\n\",\n",
        "        \"        self.b=b\\n\",\n",
        "        \"        self.c=c\\n\",\n",
        "        \"        if(a+b>c and a+c>b and b+c>a):\\n\",\n",
        "        \"            print(\\\"triangle created\\\")\\n\",\n",
        "        \"        else:\\n\",\n",
        "        \"            print(\\\"triangle is false\\\")\\n\",\n",
        "        \"    def perim(self):\\n\",\n",
        "        \"        return self.a+self.b+self.c\\n\",\n",
        "        \"    def Area(self):\\n\",\n",
        "        \"        s=(self.a+self.b+self.c)/2\\n\",\n",
        "        \"        return (s*(s-self.a)*(s-self.b)*(s-self.c))**0.5\\n\",\n",
        "        \"    def is_triangle(self):\\n\",\n",
        "        \"        if(self.a+self.b>self.c and self.a+self.c>self.b and self.b+self.c>self.a):\\n\",\n",
        "        \"            return True\\n\",\n",
        "        \"        else:\\n\",\n",
        "        \"            return False\\n\",\n",
        "        \"    def __del__ (self):\\n\",\n",
        "        \"        print(\\\"triangle deleted\\\")\\n\",\n",
        "        \"        return -1\\n\",\n",
        "        \"T=triangle(5,7,6)\\n\",\n",
        "        \"print(T.perim() )\\n\",\n",
        "        \"print(T.Area() )\\n\",\n",
        "        \"del T\"\n",
        "      ],\n",
        "      \"metadata\": {\n",
        "        \"colab\": {\n",
        "          \"base_uri\": \"https://localhost:8080/\"\n",
        "        },\n",
        "        \"id\": \"IE96pOyiIDGg\",\n",
        "        \"outputId\": \"24f4c52d-c43a-4543-f5b1-6720a9c9cee0\"\n",
        "      },\n",
        "      \"execution_count\": null,\n",
        "      \"outputs\": [\n",
        "        {\n",
        "          \"output_type\": \"stream\",\n",
        "          \"name\": \"stdout\",\n",
        "          \"text\": [\n",
        "            \"triangle created\\n\",\n",
        "            \"18\\n\",\n",
        "            \"14.696938456699069\\n\",\n",
        "            \"triangle deleted\\n\"\n",
        "          ]\n",
        "        }\n",
        "      ]\n",
        "    }\n",
        "  ]\n",
        "}"
      ],
      "metadata": {
        "id": "KPpLsqY8damc"
      },
      "execution_count": null,
      "outputs": []
    }
  ]
}
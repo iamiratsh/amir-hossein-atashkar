{
  "nbformat": 4,
  "nbformat_minor": 0,
  "metadata": {
    "colab": {
      "provenance": [],
      "authorship_tag": "ABX9TyM1t1abm7Qn4oZvC4o7Wu9O",
      "include_colab_link": true
    },
    "kernelspec": {
      "name": "python3",
      "display_name": "Python 3"
    },
    "language_info": {
      "name": "python"
    }
  },
  "cells": [
    {
      "cell_type": "markdown",
      "metadata": {
        "id": "view-in-github",
        "colab_type": "text"
      },
      "source": [
        "<a href=\"https://colab.research.google.com/github/iamiratsh/amir-hossein-atashkar/blob/main/Getter%20and%20Setter%20amir%20atashkar%20Untitled5.ipynb\" target=\"_parent\"><img src=\"https://colab.research.google.com/assets/colab-badge.svg\" alt=\"Open In Colab\"/></a>"
      ]
    },
    {
      "cell_type": "code",
      "source": [
        "{\n",
        "  \"nbformat\": 4,\n",
        "  \"nbformat_minor\": 0,\n",
        "  \"metadata\": {\n",
        "    \"colab\": {\n",
        "      \"provenance\": [],\n",
        "      \"authorship_tag\": \"ABX9TyPm5DbTSWo0dNTp3VQ/nM0e\",\n",
        "      \"include_colab_link\": true\n",
        "    },\n",
        "    \"kernelspec\": {\n",
        "      \"name\": \"python3\",\n",
        "      \"display_name\": \"Python 3\"\n",
        "    },\n",
        "    \"language_info\": {\n",
        "      \"name\": \"python\"\n",
        "    }\n",
        "  },\n",
        "  \"cells\": [\n",
        "    {\n",
        "      \"cell_type\": \"markdown\",\n",
        "      \"metadata\": {\n",
        "        \"id\": \"view-in-github\",\n",
        "        \"colab_type\": \"text\"\n",
        "      },\n",
        "      \"source\": [\n",
        "        \"<a href=\\\"https://colab.research.google.com/github/RozhanGhanavati/barname-nevisi/blob/main/Getter%20and%20Setter%20rozhan%20ghanavatiUntitled5.ipynb\\\" target=\\\"_parent\\\"><img src=\\\"https://colab.research.google.com/assets/colab-badge.svg\\\" alt=\\\"Open In Colab\\\"/></a>\"\n",
        "      ]\n",
        "    },\n",
        "    {\n",
        "      \"cell_type\": \"code\",\n",
        "      \"source\": [\n",
        "        \"class ConditionalClass:\\n\",\n",
        "        \"    def init(self, condition):\\n\",\n",
        "        \"        self.condition = condition\\n\",\n",
        "        \"\\n\",\n",
        "        \"    def define_attributes(self):\\n\",\n",
        "        \"        if self.condition == 'positive':\\n\",\n",
        "        \"            setattr(self, 'attr1', 'Positive attribute')\\n\",\n",
        "        \"            setattr(self, 'attr2', 10)\\n\",\n",
        "        \"        elif self.condition == 'negative':\\n\",\n",
        "        \"            setattr(self, 'attr1', 'Negative attribute')\\n\",\n",
        "        \"            setattr(self, 'attr2', -10)\\n\",\n",
        "        \"        else:\\n\",\n",
        "        \"            setattr(self, 'attr1', 'Neutral attribute')\\n\",\n",
        "        \"            setattr(self, 'attr2', 0)\\n\",\n",
        "        \"\\n\",\n",
        "        \"    def getattr(self, name):\\n\",\n",
        "        \"        if name.startswith('attr'):\\n\",\n",
        "        \"            return f\\\"Default value for {name}\\\"\\n\",\n",
        "        \"        raise AttributeError(f\\\"'ConditionalClass' object has no attribute '{name}'\\\")\"\n",
        "      ],\n",
        "      \"metadata\": {\n",
        "        \"id\": \"aK8byqynytLi\"\n",
        "      },\n",
        "      \"execution_count\": 2,\n",
        "      \"outputs\": []\n",
        "    }\n",
        "  ]\n",
        "}"
      ],
      "metadata": {
        "id": "aMetSgrjXjbC"
      },
      "execution_count": null,
      "outputs": []
    }
  ]
}
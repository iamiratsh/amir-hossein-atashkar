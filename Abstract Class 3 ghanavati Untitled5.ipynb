{
  "nbformat": 4,
  "nbformat_minor": 0,
  "metadata": {
    "colab": {
      "provenance": [],
      "authorship_tag": "ABX9TyN0otoCPm5KaC/C2Nysp9eY",
      "include_colab_link": true
    },
    "kernelspec": {
      "name": "python3",
      "display_name": "Python 3"
    },
    "language_info": {
      "name": "python"
    }
  },
  "cells": [
    {
      "cell_type": "markdown",
      "metadata": {
        "id": "view-in-github",
        "colab_type": "text"
      },
      "source": [
        "<a href=\"https://colab.research.google.com/github/iamiratsh/amir-hossein-atashkar/blob/main/Abstract%20Class%203%20ghanavati%20Untitled5.ipynb\" target=\"_parent\"><img src=\"https://colab.research.google.com/assets/colab-badge.svg\" alt=\"Open In Colab\"/></a>"
      ]
    },
    {
      "cell_type": "code",
      "source": [
        "{\n",
        "  \"nbformat\": 4,\n",
        "  \"nbformat_minor\": 0,\n",
        "  \"metadata\": {\n",
        "    \"colab\": {\n",
        "      \"provenance\": [],\n",
        "      \"authorship_tag\": \"ABX9TyNbxrR69ViL+JwoBq9utyFm\",\n",
        "      \"include_colab_link\": true\n",
        "    },\n",
        "    \"kernelspec\": {\n",
        "      \"name\": \"python3\",\n",
        "      \"display_name\": \"Python 3\"\n",
        "    },\n",
        "    \"language_info\": {\n",
        "      \"name\": \"python\"\n",
        "    }\n",
        "  },\n",
        "  \"cells\": [\n",
        "    {\n",
        "      \"cell_type\": \"markdown\",\n",
        "      \"metadata\": {\n",
        "        \"id\": \"view-in-github\",\n",
        "        \"colab_type\": \"text\"\n",
        "      },\n",
        "      \"source\": [\n",
        "        \"<a href=\\\"https://colab.research.google.com/github/RozhanGhanavati/barname-nevisi/blob/main/Abstract%20Class%203%20ghanavati%20Untitled5.ipynb\\\" target=\\\"_parent\\\"><img src=\\\"https://colab.research.google.com/assets/colab-badge.svg\\\" alt=\\\"Open In Colab\\\"/></a>\"\n",
        "      ]\n",
        "    },\n",
        "    {\n",
        "      \"cell_type\": \"code\",\n",
        "      \"source\": [\n",
        "        \"from abc import ABC, abstractmethod\\n\",\n",
        "        \"\\n\",\n",
        "        \"class Employee(ABC):\\n\",\n",
        "        \"    def __init__(self, name, salary):\\n\",\n",
        "        \"        self._name = name\\n\",\n",
        "        \"        self._salary = salary\\n\",\n",
        "        \"\\n\",\n",
        "        \"    @property\\n\",\n",
        "        \"    def name(self):\\n\",\n",
        "        \"        return self._name\\n\",\n",
        "        \"\\n\",\n",
        "        \"    @name.setter\\n\",\n",
        "        \"    def name(self, value):\\n\",\n",
        "        \"        self._name = value\\n\",\n",
        "        \"\\n\",\n",
        "        \"    @property\\n\",\n",
        "        \"    def salary(self):\\n\",\n",
        "        \"        return self._salary\\n\",\n",
        "        \"\\n\",\n",
        "        \"    @salary.setter\\n\",\n",
        "        \"    def salary(self, value):\\n\",\n",
        "        \"        self._salary = value\\n\",\n",
        "        \"\\n\",\n",
        "        \"    @abstractmethod\\n\",\n",
        "        \"    def work(self):\\n\",\n",
        "        \"        pass\\n\",\n",
        "        \"\\n\",\n",
        "        \"class Developer(Employee):\\n\",\n",
        "        \"    def work(self):\\n\",\n",
        "        \"        return \\\"Writing code...\\\"\\n\",\n",
        "        \"\\n\",\n",
        "        \"class Manager(Employee):\\n\",\n",
        "        \"    def work(self):\\n\",\n",
        "        \"        return \\\"Managing team...\\\"\"\n",
        "      ],\n",
        "      \"metadata\": {\n",
        "        \"id\": \"X5iW6zJy7rav\"\n",
        "      },\n",
        "      \"execution_count\": 9,\n",
        "      \"outputs\": []\n",
        "    }\n",
        "  ]\n",
        "}"
      ],
      "metadata": {
        "id": "_NPmLdLfSQiz"
      },
      "execution_count": null,
      "outputs": []
    }
  ]
}
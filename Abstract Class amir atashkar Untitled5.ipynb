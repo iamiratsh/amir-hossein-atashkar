{
  "nbformat": 4,
  "nbformat_minor": 0,
  "metadata": {
    "colab": {
      "provenance": [],
      "authorship_tag": "ABX9TyMBw9NL5EE6sJGvcH2/YGHJ",
      "include_colab_link": true
    },
    "kernelspec": {
      "name": "python3",
      "display_name": "Python 3"
    },
    "language_info": {
      "name": "python"
    }
  },
  "cells": [
    {
      "cell_type": "markdown",
      "metadata": {
        "id": "view-in-github",
        "colab_type": "text"
      },
      "source": [
        "<a href=\"https://colab.research.google.com/github/iamiratsh/amir-hossein-atashkar/blob/main/Abstract%20Class%20amir%20atashkar%20Untitled5.ipynb\" target=\"_parent\"><img src=\"https://colab.research.google.com/assets/colab-badge.svg\" alt=\"Open In Colab\"/></a>"
      ]
    },
    {
      "cell_type": "code",
      "source": [
        "{\n",
        "  \"nbformat\": 4,\n",
        "  \"nbformat_minor\": 0,\n",
        "  \"metadata\": {\n",
        "    \"colab\": {\n",
        "      \"provenance\": [],\n",
        "      \"authorship_tag\": \"ABX9TyPEX8uTgPIC9qMLUXnChhUB\",\n",
        "      \"include_colab_link\": true\n",
        "    },\n",
        "    \"kernelspec\": {\n",
        "      \"name\": \"python3\",\n",
        "      \"display_name\": \"Python 3\"\n",
        "    },\n",
        "    \"language_info\": {\n",
        "      \"name\": \"python\"\n",
        "    }\n",
        "  },\n",
        "  \"cells\": [\n",
        "    {\n",
        "      \"cell_type\": \"markdown\",\n",
        "      \"metadata\": {\n",
        "        \"id\": \"view-in-github\",\n",
        "        \"colab_type\": \"text\"\n",
        "      },\n",
        "      \"source\": [\n",
        "        \"<a href=\\\"https://colab.research.google.com/github/RozhanGhanavati/barname-nevisi/blob/main/Abstract%20Class%20rozhan%20ghanavatiUntitled5.ipynb\\\" target=\\\"_parent\\\"><img src=\\\"https://colab.research.google.com/assets/colab-badge.svg\\\" alt=\\\"Open In Colab\\\"/></a>\"\n",
        "      ]\n",
        "    },\n",
        "    {\n",
        "      \"cell_type\": \"code\",\n",
        "      \"source\": [\n",
        "        \"from abc import ABC, abstractmethod\\n\",\n",
        "        \"\\n\",\n",
        "        \"class Vehicle(ABC):\\n\",\n",
        "        \"    def __init__(self, make, model):\\n\",\n",
        "        \"        self._make = make\\n\",\n",
        "        \"        self._model = model\\n\",\n",
        "        \"\\n\",\n",
        "        \"    @property\\n\",\n",
        "        \"    def make(self):\\n\",\n",
        "        \"        return self._make\\n\",\n",
        "        \"\\n\",\n",
        "        \"    @make.setter\\n\",\n",
        "        \"    def make(self, value):\\n\",\n",
        "        \"        self._make = value\\n\",\n",
        "        \"\\n\",\n",
        "        \"    @property\\n\",\n",
        "        \"    def model(self):\\n\",\n",
        "        \"        return self._model\\n\",\n",
        "        \"\\n\",\n",
        "        \"    @model.setter\\n\",\n",
        "        \"    def model(self, value):\\n\",\n",
        "        \"        self._model = value\\n\",\n",
        "        \"\\n\",\n",
        "        \"    @abstractmethod\\n\",\n",
        "        \"    def drive(self):\\n\",\n",
        "        \"        pass\\n\",\n",
        "        \"\\n\",\n",
        "        \"class Car(Vehicle):\\n\",\n",
        "        \"    def drive(self):\\n\",\n",
        "        \"        return \\\"Vroom!\\\"\\n\",\n",
        "        \"\\n\",\n",
        "        \"class Motorcycle(Vehicle):\\n\",\n",
        "        \"    def drive(self):\\n\",\n",
        "        \"        return \\\"Rumble!\\\"\"\n",
        "      ],\n",
        "      \"metadata\": {\n",
        "        \"id\": \"ldY1xvcH7ArK\"\n",
        "      },\n",
        "      \"execution_count\": 7,\n",
        "      \"outputs\": []\n",
        "    }\n",
        "  ]\n",
        "}"
      ],
      "metadata": {
        "id": "Gt8_HnrKUpiO"
      },
      "execution_count": null,
      "outputs": []
    }
  ]
}
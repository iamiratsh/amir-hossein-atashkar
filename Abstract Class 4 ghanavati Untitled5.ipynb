{
  "nbformat": 4,
  "nbformat_minor": 0,
  "metadata": {
    "colab": {
      "provenance": [],
      "authorship_tag": "ABX9TyNPnJbqbgDpiX399brGrFBO",
      "include_colab_link": true
    },
    "kernelspec": {
      "name": "python3",
      "display_name": "Python 3"
    },
    "language_info": {
      "name": "python"
    }
  },
  "cells": [
    {
      "cell_type": "markdown",
      "metadata": {
        "id": "view-in-github",
        "colab_type": "text"
      },
      "source": [
        "<a href=\"https://colab.research.google.com/github/iamiratsh/amir-hossein-atashkar/blob/main/Abstract%20Class%204%20ghanavati%20Untitled5.ipynb\" target=\"_parent\"><img src=\"https://colab.research.google.com/assets/colab-badge.svg\" alt=\"Open In Colab\"/></a>"
      ]
    },
    {
      "cell_type": "code",
      "source": [
        "{\n",
        "  \"nbformat\": 4,\n",
        "  \"nbformat_minor\": 0,\n",
        "  \"metadata\": {\n",
        "    \"colab\": {\n",
        "      \"provenance\": [],\n",
        "      \"authorship_tag\": \"ABX9TyNEaeMYFG17MWgxLmDtbyIE\",\n",
        "      \"include_colab_link\": true\n",
        "    },\n",
        "    \"kernelspec\": {\n",
        "      \"name\": \"python3\",\n",
        "      \"display_name\": \"Python 3\"\n",
        "    },\n",
        "    \"language_info\": {\n",
        "      \"name\": \"python\"\n",
        "    }\n",
        "  },\n",
        "  \"cells\": [\n",
        "    {\n",
        "      \"cell_type\": \"markdown\",\n",
        "      \"metadata\": {\n",
        "        \"id\": \"view-in-github\",\n",
        "        \"colab_type\": \"text\"\n",
        "      },\n",
        "      \"source\": [\n",
        "        \"<a href=\\\"https://colab.research.google.com/github/RozhanGhanavati/barname-nevisi/blob/main/Abstract%20Class%204%20ghanavati%20Untitled5.ipynb\\\" target=\\\"_parent\\\"><img src=\\\"https://colab.research.google.com/assets/colab-badge.svg\\\" alt=\\\"Open In Colab\\\"/></a>\"\n",
        "      ]\n",
        "    },\n",
        "    {\n",
        "      \"cell_type\": \"code\",\n",
        "      \"source\": [\n",
        "        \"from abc import ABC, abstractmethod\\n\",\n",
        "        \"\\n\",\n",
        "        \"class BankAccount(ABC):\\n\",\n",
        "        \"    def __init__(self, account_number, balance):\\n\",\n",
        "        \"        self._account_number = account_number\\n\",\n",
        "        \"        self._balance = balance\\n\",\n",
        "        \"\\n\",\n",
        "        \"    @property\\n\",\n",
        "        \"    def account_number(self):\\n\",\n",
        "        \"        return self._account_number\\n\",\n",
        "        \"\\n\",\n",
        "        \"    @account_number.setter\\n\",\n",
        "        \"    def account_number(self, value):\\n\",\n",
        "        \"        self._account_number = value\\n\",\n",
        "        \"\\n\",\n",
        "        \"    @property\\n\",\n",
        "        \"    def balance(self):\\n\",\n",
        "        \"        return self._balance\\n\",\n",
        "        \"\\n\",\n",
        "        \"    @balance.setter\\n\",\n",
        "        \"    def balance(self, value):\\n\",\n",
        "        \"        self._balance = value\\n\",\n",
        "        \"\\n\",\n",
        "        \"    @abstractmethod\\n\",\n",
        "        \"    def deposit(self, amount):\\n\",\n",
        "        \"        pass\\n\",\n",
        "        \"\\n\",\n",
        "        \"    @abstractmethod\\n\",\n",
        "        \"    def withdraw(self, amount):\\n\",\n",
        "        \"        pass\\n\",\n",
        "        \"\\n\",\n",
        "        \"class CheckingAccount(BankAccount):\\n\",\n",
        "        \"    def deposit(self, amount):\\n\",\n",
        "        \"        self._balance += amount\\n\",\n",
        "        \"\\n\",\n",
        "        \"    def withdraw(self, amount):\\n\",\n",
        "        \"        if amount <= self._balance:\\n\",\n",
        "        \"            self._balance -= amount\\n\",\n",
        "        \"        else:\\n\",\n",
        "        \"            print(\\\"Insufficient funds!\\\")\"\n",
        "      ],\n",
        "      \"metadata\": {\n",
        "        \"id\": \"pfzftJyM8TVe\"\n",
        "      },\n",
        "      \"execution_count\": 12,\n",
        "      \"outputs\": []\n",
        "    }\n",
        "  ]\n",
        "}"
      ],
      "metadata": {
        "id": "Liv0EvMiSjsx"
      },
      "execution_count": null,
      "outputs": []
    }
  ]
}